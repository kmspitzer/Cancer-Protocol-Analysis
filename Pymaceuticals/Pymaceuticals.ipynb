{
 "cells": [
  {
   "cell_type": "markdown",
   "metadata": {},
   "source": [
    "## Observations and Insights "
   ]
  },
  {
   "cell_type": "markdown",
   "metadata": {},
   "source": []
  },
  {
   "cell_type": "code",
   "execution_count": 2,
   "metadata": {},
   "outputs": [],
   "source": [
    "# dependencies and setup\n",
    "import matplotlib.pyplot as plt\n",
    "import pandas as pd\n",
    "import scipy.stats as st"
   ]
  },
  {
   "cell_type": "code",
   "execution_count": 3,
   "metadata": {},
   "outputs": [],
   "source": [
    "# define study data filenames\n",
    "mouse_metadata_path = \"data/Mouse_metadata.csv\"\n",
    "study_results_path = \"data/Study_results.csv\""
   ]
  },
  {
   "cell_type": "code",
   "execution_count": 4,
   "metadata": {},
   "outputs": [],
   "source": [
    "# read the mouse data and the study results\n",
    "mouse_metadata = pd.read_csv(mouse_metadata_path)\n",
    "study_results = pd.read_csv(study_results_path)"
   ]
  },
  {
   "cell_type": "code",
   "execution_count": 5,
   "metadata": {},
   "outputs": [
    {
     "data": {
      "text/html": [
       "<div>\n",
       "<style scoped>\n",
       "    .dataframe tbody tr th:only-of-type {\n",
       "        vertical-align: middle;\n",
       "    }\n",
       "\n",
       "    .dataframe tbody tr th {\n",
       "        vertical-align: top;\n",
       "    }\n",
       "\n",
       "    .dataframe thead th {\n",
       "        text-align: right;\n",
       "    }\n",
       "</style>\n",
       "<table border=\"1\" class=\"dataframe\">\n",
       "  <thead>\n",
       "    <tr style=\"text-align: right;\">\n",
       "      <th></th>\n",
       "      <th>Mouse ID</th>\n",
       "      <th>Drug Regimen</th>\n",
       "      <th>Sex</th>\n",
       "      <th>Age_months</th>\n",
       "      <th>Weight (g)</th>\n",
       "      <th>Timepoint</th>\n",
       "      <th>Tumor Volume (mm3)</th>\n",
       "      <th>Metastatic Sites</th>\n",
       "    </tr>\n",
       "  </thead>\n",
       "  <tbody>\n",
       "    <tr>\n",
       "      <th>0</th>\n",
       "      <td>k403</td>\n",
       "      <td>Ramicane</td>\n",
       "      <td>Male</td>\n",
       "      <td>21</td>\n",
       "      <td>16</td>\n",
       "      <td>0</td>\n",
       "      <td>45.000000</td>\n",
       "      <td>0</td>\n",
       "    </tr>\n",
       "    <tr>\n",
       "      <th>1</th>\n",
       "      <td>k403</td>\n",
       "      <td>Ramicane</td>\n",
       "      <td>Male</td>\n",
       "      <td>21</td>\n",
       "      <td>16</td>\n",
       "      <td>5</td>\n",
       "      <td>38.825898</td>\n",
       "      <td>0</td>\n",
       "    </tr>\n",
       "    <tr>\n",
       "      <th>2</th>\n",
       "      <td>k403</td>\n",
       "      <td>Ramicane</td>\n",
       "      <td>Male</td>\n",
       "      <td>21</td>\n",
       "      <td>16</td>\n",
       "      <td>10</td>\n",
       "      <td>35.014271</td>\n",
       "      <td>1</td>\n",
       "    </tr>\n",
       "    <tr>\n",
       "      <th>3</th>\n",
       "      <td>k403</td>\n",
       "      <td>Ramicane</td>\n",
       "      <td>Male</td>\n",
       "      <td>21</td>\n",
       "      <td>16</td>\n",
       "      <td>15</td>\n",
       "      <td>34.223992</td>\n",
       "      <td>1</td>\n",
       "    </tr>\n",
       "    <tr>\n",
       "      <th>4</th>\n",
       "      <td>k403</td>\n",
       "      <td>Ramicane</td>\n",
       "      <td>Male</td>\n",
       "      <td>21</td>\n",
       "      <td>16</td>\n",
       "      <td>20</td>\n",
       "      <td>32.997729</td>\n",
       "      <td>1</td>\n",
       "    </tr>\n",
       "  </tbody>\n",
       "</table>\n",
       "</div>"
      ],
      "text/plain": [
       "  Mouse ID Drug Regimen   Sex  Age_months  Weight (g)  Timepoint  \\\n",
       "0     k403     Ramicane  Male          21          16          0   \n",
       "1     k403     Ramicane  Male          21          16          5   \n",
       "2     k403     Ramicane  Male          21          16         10   \n",
       "3     k403     Ramicane  Male          21          16         15   \n",
       "4     k403     Ramicane  Male          21          16         20   \n",
       "\n",
       "   Tumor Volume (mm3)  Metastatic Sites  \n",
       "0           45.000000                 0  \n",
       "1           38.825898                 0  \n",
       "2           35.014271                 1  \n",
       "3           34.223992                 1  \n",
       "4           32.997729                 1  "
      ]
     },
     "execution_count": 5,
     "metadata": {},
     "output_type": "execute_result"
    }
   ],
   "source": [
    "# combine the data into a single dataset\n",
    "combined_data = pd.merge(mouse_metadata, study_results, on=\"Mouse ID\")\n",
    "\n",
    "# display the data table for preview\n",
    "combined_data.head()"
   ]
  },
  {
   "cell_type": "code",
   "execution_count": 6,
   "metadata": {
    "scrolled": true
   },
   "outputs": [
    {
     "data": {
      "text/plain": [
       "249"
      ]
     },
     "execution_count": 6,
     "metadata": {},
     "output_type": "execute_result"
    }
   ],
   "source": [
    "# checking the number of mice.\n",
    "len(combined_data[\"Mouse ID\"].unique())\n"
   ]
  },
  {
   "cell_type": "code",
   "execution_count": 7,
   "metadata": {},
   "outputs": [],
   "source": [
    "# getting the duplicate mice by ID number that shows up for Mouse ID and Timepoint. \n",
    "duplicate = combined_data[combined_data.duplicated([\"Mouse ID\", \"Timepoint\"], keep=False)]\n"
   ]
  },
  {
   "cell_type": "code",
   "execution_count": 8,
   "metadata": {},
   "outputs": [],
   "source": [
    "# get all the data for the duplicate mouse ID. \n",
    "mouse_list = duplicate[\"Mouse ID\"].unique()"
   ]
  },
  {
   "cell_type": "code",
   "execution_count": 9,
   "metadata": {},
   "outputs": [],
   "source": [
    "# create a clean DataFrame by dropping the duplicate mouse by its ID.\n",
    "for x in mouse_list:\n",
    "    indexNames = combined_data[combined_data[\"Mouse ID\"] == x].index\n",
    "    combined_data.drop(indexNames, inplace = True)"
   ]
  },
  {
   "cell_type": "code",
   "execution_count": 10,
   "metadata": {},
   "outputs": [
    {
     "data": {
      "text/plain": [
       "248"
      ]
     },
     "execution_count": 10,
     "metadata": {},
     "output_type": "execute_result"
    }
   ],
   "source": [
    "# checking the number of mice in the clean DataFrame.\n",
    "len(combined_data[\"Mouse ID\"].unique())"
   ]
  },
  {
   "cell_type": "markdown",
   "metadata": {},
   "source": [
    "## Summary Statistics"
   ]
  },
  {
   "cell_type": "code",
   "execution_count": 11,
   "metadata": {},
   "outputs": [
    {
     "data": {
      "text/html": [
       "<div>\n",
       "<style scoped>\n",
       "    .dataframe tbody tr th:only-of-type {\n",
       "        vertical-align: middle;\n",
       "    }\n",
       "\n",
       "    .dataframe tbody tr th {\n",
       "        vertical-align: top;\n",
       "    }\n",
       "\n",
       "    .dataframe thead th {\n",
       "        text-align: right;\n",
       "    }\n",
       "</style>\n",
       "<table border=\"1\" class=\"dataframe\">\n",
       "  <thead>\n",
       "    <tr style=\"text-align: right;\">\n",
       "      <th></th>\n",
       "      <th>Mean Tumor Vol</th>\n",
       "      <th>Median Tumor Vol</th>\n",
       "      <th>Tumor Vol Variance</th>\n",
       "      <th>Std Dev of Tumor Vol</th>\n",
       "      <th>SEM of Tumor Vol</th>\n",
       "    </tr>\n",
       "    <tr>\n",
       "      <th>Drug Regimen</th>\n",
       "      <th></th>\n",
       "      <th></th>\n",
       "      <th></th>\n",
       "      <th></th>\n",
       "      <th></th>\n",
       "    </tr>\n",
       "  </thead>\n",
       "  <tbody>\n",
       "    <tr>\n",
       "      <th>Capomulin</th>\n",
       "      <td>40.68</td>\n",
       "      <td>41.56</td>\n",
       "      <td>24.95</td>\n",
       "      <td>4.99</td>\n",
       "      <td>0.33</td>\n",
       "    </tr>\n",
       "    <tr>\n",
       "      <th>Ceftamin</th>\n",
       "      <td>52.59</td>\n",
       "      <td>51.78</td>\n",
       "      <td>39.29</td>\n",
       "      <td>6.27</td>\n",
       "      <td>0.47</td>\n",
       "    </tr>\n",
       "    <tr>\n",
       "      <th>Infubinol</th>\n",
       "      <td>52.88</td>\n",
       "      <td>51.82</td>\n",
       "      <td>43.13</td>\n",
       "      <td>6.57</td>\n",
       "      <td>0.49</td>\n",
       "    </tr>\n",
       "    <tr>\n",
       "      <th>Ketapril</th>\n",
       "      <td>55.24</td>\n",
       "      <td>53.70</td>\n",
       "      <td>68.55</td>\n",
       "      <td>8.28</td>\n",
       "      <td>0.60</td>\n",
       "    </tr>\n",
       "    <tr>\n",
       "      <th>Naftisol</th>\n",
       "      <td>54.33</td>\n",
       "      <td>52.51</td>\n",
       "      <td>66.17</td>\n",
       "      <td>8.13</td>\n",
       "      <td>0.60</td>\n",
       "    </tr>\n",
       "    <tr>\n",
       "      <th>Placebo</th>\n",
       "      <td>54.03</td>\n",
       "      <td>52.29</td>\n",
       "      <td>61.17</td>\n",
       "      <td>7.82</td>\n",
       "      <td>0.58</td>\n",
       "    </tr>\n",
       "    <tr>\n",
       "      <th>Propriva</th>\n",
       "      <td>52.32</td>\n",
       "      <td>50.45</td>\n",
       "      <td>43.85</td>\n",
       "      <td>6.62</td>\n",
       "      <td>0.54</td>\n",
       "    </tr>\n",
       "    <tr>\n",
       "      <th>Ramicane</th>\n",
       "      <td>40.22</td>\n",
       "      <td>40.67</td>\n",
       "      <td>23.49</td>\n",
       "      <td>4.85</td>\n",
       "      <td>0.32</td>\n",
       "    </tr>\n",
       "    <tr>\n",
       "      <th>Stelasyn</th>\n",
       "      <td>54.23</td>\n",
       "      <td>52.43</td>\n",
       "      <td>59.45</td>\n",
       "      <td>7.71</td>\n",
       "      <td>0.57</td>\n",
       "    </tr>\n",
       "    <tr>\n",
       "      <th>Zoniferol</th>\n",
       "      <td>53.24</td>\n",
       "      <td>51.82</td>\n",
       "      <td>48.53</td>\n",
       "      <td>6.97</td>\n",
       "      <td>0.52</td>\n",
       "    </tr>\n",
       "  </tbody>\n",
       "</table>\n",
       "</div>"
      ],
      "text/plain": [
       "             Mean Tumor Vol Median Tumor Vol Tumor Vol Variance  \\\n",
       "Drug Regimen                                                      \n",
       "Capomulin             40.68            41.56              24.95   \n",
       "Ceftamin              52.59            51.78              39.29   \n",
       "Infubinol             52.88            51.82              43.13   \n",
       "Ketapril              55.24            53.70              68.55   \n",
       "Naftisol              54.33            52.51              66.17   \n",
       "Placebo               54.03            52.29              61.17   \n",
       "Propriva              52.32            50.45              43.85   \n",
       "Ramicane              40.22            40.67              23.49   \n",
       "Stelasyn              54.23            52.43              59.45   \n",
       "Zoniferol             53.24            51.82              48.53   \n",
       "\n",
       "             Std Dev of Tumor Vol SEM of Tumor Vol  \n",
       "Drug Regimen                                        \n",
       "Capomulin                    4.99             0.33  \n",
       "Ceftamin                     6.27             0.47  \n",
       "Infubinol                    6.57             0.49  \n",
       "Ketapril                     8.28             0.60  \n",
       "Naftisol                     8.13             0.60  \n",
       "Placebo                      7.82             0.58  \n",
       "Propriva                     6.62             0.54  \n",
       "Ramicane                     4.85             0.32  \n",
       "Stelasyn                     7.71             0.57  \n",
       "Zoniferol                    6.97             0.52  "
      ]
     },
     "execution_count": 11,
     "metadata": {},
     "output_type": "execute_result"
    }
   ],
   "source": [
    "# generate a summary statistics table of mean, median, variance, standard deviation, and SEM of the tumor volume for each regimen\n",
    "\n",
    "# pull drug regimen and tumor volume\n",
    "tumor_vol_by_regimen = combined_data[[\"Drug Regimen\", \"Tumor Volume (mm3)\"]]\n",
    "\n",
    "# calculate mean, median variance, standard deviation and SEM by drug regimen\n",
    "mean_vol = tumor_vol_by_regimen.groupby(\"Drug Regimen\").mean()\n",
    "median_vol = tumor_vol_by_regimen.groupby(\"Drug Regimen\").median()\n",
    "var_vol = tumor_vol_by_regimen.groupby(\"Drug Regimen\").var()\n",
    "std_vol = tumor_vol_by_regimen.groupby(\"Drug Regimen\").std()\n",
    "sem_vol = tumor_vol_by_regimen.groupby(\"Drug Regimen\").sem()\n",
    "\n",
    "# merge first 2 dataframes and rename columns with more meaningful names\n",
    "summary_df = pd.merge(mean_vol, median_vol, on=\"Drug Regimen\")\n",
    "summary_df.rename(columns={\"Tumor Volume (mm3)_x\": \"Mean Tumor Vol\", \"Tumor Volume (mm3)_y\": \"Median Tumor Vol\"}, inplace=True)\n",
    "\n",
    "# merge in 3rd and 4th dataframes and rename columns with more meaningful names\n",
    "summary_df = pd.merge(summary_df, var_vol, on=\"Drug Regimen\")\n",
    "summary_df = pd.merge(summary_df, std_vol, on=\"Drug Regimen\")\n",
    "summary_df.rename(columns={\"Tumor Volume (mm3)_x\": \"Tumor Vol Variance\", \"Tumor Volume (mm3)_y\": \"Std Dev of Tumor Vol\"}, inplace=True)\n",
    "\n",
    "# merge in 5th dataframe and rename new column with more meaningful names\n",
    "summary_df = pd.merge(summary_df, sem_vol, on=\"Drug Regimen\")\n",
    "summary_df.rename(columns={\"Tumor Volume (mm3)\": \"SEM of Tumor Vol\"}, inplace=True)\n",
    "\n",
    "# format data to 2 decimal places\n",
    "summary_df[\"Mean Tumor Vol\"] = summary_df[\"Mean Tumor Vol\"].map(\"{:.2f}\".format)\n",
    "summary_df[\"Median Tumor Vol\"] = summary_df[\"Median Tumor Vol\"].map(\"{:.2f}\".format)\n",
    "summary_df[\"Tumor Vol Variance\"] = summary_df[\"Tumor Vol Variance\"].map(\"{:.2f}\".format)\n",
    "summary_df[\"Std Dev of Tumor Vol\"] = summary_df[\"Std Dev of Tumor Vol\"].map(\"{:.2f}\".format)\n",
    "summary_df[\"SEM of Tumor Vol\"] = summary_df[\"SEM of Tumor Vol\"].map(\"{:.2f}\".format)\n",
    "\n",
    "# display summary dataframe\n",
    "summary_df"
   ]
  },
  {
   "cell_type": "code",
   "execution_count": 12,
   "metadata": {},
   "outputs": [
    {
     "data": {
      "text/html": [
       "<style  type=\"text/css\" >\n",
       "</style><table id=\"T_47b8bf64_4418_11eb_afec_44032ceb5bfd\" ><thead>    <tr>        <th class=\"blank level0\" ></th>        <th class=\"col_heading level0 col0\" >Mean Tumor Vol</th>        <th class=\"col_heading level0 col1\" >Median Tumor Vol</th>        <th class=\"col_heading level0 col2\" >Tumor Vol Variance</th>        <th class=\"col_heading level0 col3\" >Std Dev of Tumor Vol</th>        <th class=\"col_heading level0 col4\" >SEM of Tumor Vol</th>    </tr>    <tr>        <th class=\"index_name level0\" >Drug Regimen</th>        <th class=\"blank\" ></th>        <th class=\"blank\" ></th>        <th class=\"blank\" ></th>        <th class=\"blank\" ></th>        <th class=\"blank\" ></th>    </tr></thead><tbody>\n",
       "                <tr>\n",
       "                        <th id=\"T_47b8bf64_4418_11eb_afec_44032ceb5bfdlevel0_row0\" class=\"row_heading level0 row0\" >Capomulin</th>\n",
       "                        <td id=\"T_47b8bf64_4418_11eb_afec_44032ceb5bfdrow0_col0\" class=\"data row0 col0\" >40.68</td>\n",
       "                        <td id=\"T_47b8bf64_4418_11eb_afec_44032ceb5bfdrow0_col1\" class=\"data row0 col1\" >41.56</td>\n",
       "                        <td id=\"T_47b8bf64_4418_11eb_afec_44032ceb5bfdrow0_col2\" class=\"data row0 col2\" >24.95</td>\n",
       "                        <td id=\"T_47b8bf64_4418_11eb_afec_44032ceb5bfdrow0_col3\" class=\"data row0 col3\" >4.99</td>\n",
       "                        <td id=\"T_47b8bf64_4418_11eb_afec_44032ceb5bfdrow0_col4\" class=\"data row0 col4\" >0.33</td>\n",
       "            </tr>\n",
       "            <tr>\n",
       "                        <th id=\"T_47b8bf64_4418_11eb_afec_44032ceb5bfdlevel0_row1\" class=\"row_heading level0 row1\" >Ceftamin</th>\n",
       "                        <td id=\"T_47b8bf64_4418_11eb_afec_44032ceb5bfdrow1_col0\" class=\"data row1 col0\" >52.59</td>\n",
       "                        <td id=\"T_47b8bf64_4418_11eb_afec_44032ceb5bfdrow1_col1\" class=\"data row1 col1\" >51.78</td>\n",
       "                        <td id=\"T_47b8bf64_4418_11eb_afec_44032ceb5bfdrow1_col2\" class=\"data row1 col2\" >39.29</td>\n",
       "                        <td id=\"T_47b8bf64_4418_11eb_afec_44032ceb5bfdrow1_col3\" class=\"data row1 col3\" >6.27</td>\n",
       "                        <td id=\"T_47b8bf64_4418_11eb_afec_44032ceb5bfdrow1_col4\" class=\"data row1 col4\" >0.47</td>\n",
       "            </tr>\n",
       "            <tr>\n",
       "                        <th id=\"T_47b8bf64_4418_11eb_afec_44032ceb5bfdlevel0_row2\" class=\"row_heading level0 row2\" >Infubinol</th>\n",
       "                        <td id=\"T_47b8bf64_4418_11eb_afec_44032ceb5bfdrow2_col0\" class=\"data row2 col0\" >52.88</td>\n",
       "                        <td id=\"T_47b8bf64_4418_11eb_afec_44032ceb5bfdrow2_col1\" class=\"data row2 col1\" >51.82</td>\n",
       "                        <td id=\"T_47b8bf64_4418_11eb_afec_44032ceb5bfdrow2_col2\" class=\"data row2 col2\" >43.13</td>\n",
       "                        <td id=\"T_47b8bf64_4418_11eb_afec_44032ceb5bfdrow2_col3\" class=\"data row2 col3\" >6.57</td>\n",
       "                        <td id=\"T_47b8bf64_4418_11eb_afec_44032ceb5bfdrow2_col4\" class=\"data row2 col4\" >0.49</td>\n",
       "            </tr>\n",
       "            <tr>\n",
       "                        <th id=\"T_47b8bf64_4418_11eb_afec_44032ceb5bfdlevel0_row3\" class=\"row_heading level0 row3\" >Ketapril</th>\n",
       "                        <td id=\"T_47b8bf64_4418_11eb_afec_44032ceb5bfdrow3_col0\" class=\"data row3 col0\" >55.24</td>\n",
       "                        <td id=\"T_47b8bf64_4418_11eb_afec_44032ceb5bfdrow3_col1\" class=\"data row3 col1\" >53.70</td>\n",
       "                        <td id=\"T_47b8bf64_4418_11eb_afec_44032ceb5bfdrow3_col2\" class=\"data row3 col2\" >68.55</td>\n",
       "                        <td id=\"T_47b8bf64_4418_11eb_afec_44032ceb5bfdrow3_col3\" class=\"data row3 col3\" >8.28</td>\n",
       "                        <td id=\"T_47b8bf64_4418_11eb_afec_44032ceb5bfdrow3_col4\" class=\"data row3 col4\" >0.60</td>\n",
       "            </tr>\n",
       "            <tr>\n",
       "                        <th id=\"T_47b8bf64_4418_11eb_afec_44032ceb5bfdlevel0_row4\" class=\"row_heading level0 row4\" >Naftisol</th>\n",
       "                        <td id=\"T_47b8bf64_4418_11eb_afec_44032ceb5bfdrow4_col0\" class=\"data row4 col0\" >54.33</td>\n",
       "                        <td id=\"T_47b8bf64_4418_11eb_afec_44032ceb5bfdrow4_col1\" class=\"data row4 col1\" >52.51</td>\n",
       "                        <td id=\"T_47b8bf64_4418_11eb_afec_44032ceb5bfdrow4_col2\" class=\"data row4 col2\" >66.17</td>\n",
       "                        <td id=\"T_47b8bf64_4418_11eb_afec_44032ceb5bfdrow4_col3\" class=\"data row4 col3\" >8.13</td>\n",
       "                        <td id=\"T_47b8bf64_4418_11eb_afec_44032ceb5bfdrow4_col4\" class=\"data row4 col4\" >0.60</td>\n",
       "            </tr>\n",
       "            <tr>\n",
       "                        <th id=\"T_47b8bf64_4418_11eb_afec_44032ceb5bfdlevel0_row5\" class=\"row_heading level0 row5\" >Placebo</th>\n",
       "                        <td id=\"T_47b8bf64_4418_11eb_afec_44032ceb5bfdrow5_col0\" class=\"data row5 col0\" >54.03</td>\n",
       "                        <td id=\"T_47b8bf64_4418_11eb_afec_44032ceb5bfdrow5_col1\" class=\"data row5 col1\" >52.29</td>\n",
       "                        <td id=\"T_47b8bf64_4418_11eb_afec_44032ceb5bfdrow5_col2\" class=\"data row5 col2\" >61.17</td>\n",
       "                        <td id=\"T_47b8bf64_4418_11eb_afec_44032ceb5bfdrow5_col3\" class=\"data row5 col3\" >7.82</td>\n",
       "                        <td id=\"T_47b8bf64_4418_11eb_afec_44032ceb5bfdrow5_col4\" class=\"data row5 col4\" >0.58</td>\n",
       "            </tr>\n",
       "            <tr>\n",
       "                        <th id=\"T_47b8bf64_4418_11eb_afec_44032ceb5bfdlevel0_row6\" class=\"row_heading level0 row6\" >Propriva</th>\n",
       "                        <td id=\"T_47b8bf64_4418_11eb_afec_44032ceb5bfdrow6_col0\" class=\"data row6 col0\" >52.32</td>\n",
       "                        <td id=\"T_47b8bf64_4418_11eb_afec_44032ceb5bfdrow6_col1\" class=\"data row6 col1\" >50.45</td>\n",
       "                        <td id=\"T_47b8bf64_4418_11eb_afec_44032ceb5bfdrow6_col2\" class=\"data row6 col2\" >43.85</td>\n",
       "                        <td id=\"T_47b8bf64_4418_11eb_afec_44032ceb5bfdrow6_col3\" class=\"data row6 col3\" >6.62</td>\n",
       "                        <td id=\"T_47b8bf64_4418_11eb_afec_44032ceb5bfdrow6_col4\" class=\"data row6 col4\" >0.54</td>\n",
       "            </tr>\n",
       "            <tr>\n",
       "                        <th id=\"T_47b8bf64_4418_11eb_afec_44032ceb5bfdlevel0_row7\" class=\"row_heading level0 row7\" >Ramicane</th>\n",
       "                        <td id=\"T_47b8bf64_4418_11eb_afec_44032ceb5bfdrow7_col0\" class=\"data row7 col0\" >40.22</td>\n",
       "                        <td id=\"T_47b8bf64_4418_11eb_afec_44032ceb5bfdrow7_col1\" class=\"data row7 col1\" >40.67</td>\n",
       "                        <td id=\"T_47b8bf64_4418_11eb_afec_44032ceb5bfdrow7_col2\" class=\"data row7 col2\" >23.49</td>\n",
       "                        <td id=\"T_47b8bf64_4418_11eb_afec_44032ceb5bfdrow7_col3\" class=\"data row7 col3\" >4.85</td>\n",
       "                        <td id=\"T_47b8bf64_4418_11eb_afec_44032ceb5bfdrow7_col4\" class=\"data row7 col4\" >0.32</td>\n",
       "            </tr>\n",
       "            <tr>\n",
       "                        <th id=\"T_47b8bf64_4418_11eb_afec_44032ceb5bfdlevel0_row8\" class=\"row_heading level0 row8\" >Stelasyn</th>\n",
       "                        <td id=\"T_47b8bf64_4418_11eb_afec_44032ceb5bfdrow8_col0\" class=\"data row8 col0\" >54.23</td>\n",
       "                        <td id=\"T_47b8bf64_4418_11eb_afec_44032ceb5bfdrow8_col1\" class=\"data row8 col1\" >52.43</td>\n",
       "                        <td id=\"T_47b8bf64_4418_11eb_afec_44032ceb5bfdrow8_col2\" class=\"data row8 col2\" >59.45</td>\n",
       "                        <td id=\"T_47b8bf64_4418_11eb_afec_44032ceb5bfdrow8_col3\" class=\"data row8 col3\" >7.71</td>\n",
       "                        <td id=\"T_47b8bf64_4418_11eb_afec_44032ceb5bfdrow8_col4\" class=\"data row8 col4\" >0.57</td>\n",
       "            </tr>\n",
       "            <tr>\n",
       "                        <th id=\"T_47b8bf64_4418_11eb_afec_44032ceb5bfdlevel0_row9\" class=\"row_heading level0 row9\" >Zoniferol</th>\n",
       "                        <td id=\"T_47b8bf64_4418_11eb_afec_44032ceb5bfdrow9_col0\" class=\"data row9 col0\" >53.24</td>\n",
       "                        <td id=\"T_47b8bf64_4418_11eb_afec_44032ceb5bfdrow9_col1\" class=\"data row9 col1\" >51.82</td>\n",
       "                        <td id=\"T_47b8bf64_4418_11eb_afec_44032ceb5bfdrow9_col2\" class=\"data row9 col2\" >48.53</td>\n",
       "                        <td id=\"T_47b8bf64_4418_11eb_afec_44032ceb5bfdrow9_col3\" class=\"data row9 col3\" >6.97</td>\n",
       "                        <td id=\"T_47b8bf64_4418_11eb_afec_44032ceb5bfdrow9_col4\" class=\"data row9 col4\" >0.52</td>\n",
       "            </tr>\n",
       "    </tbody></table>"
      ],
      "text/plain": [
       "<pandas.io.formats.style.Styler at 0x1dc010f2828>"
      ]
     },
     "execution_count": 12,
     "metadata": {},
     "output_type": "execute_result"
    }
   ],
   "source": [
    "# using the aggregation method, produce the same summary statistics in a single line\n",
    "agg_summary_df = tumor_vol_by_regimen.groupby(\"Drug Regimen\")[\"Tumor Volume (mm3)\"].agg([(\"Mean Tumor Vol\",\"mean\"),(\"Median Tumor Vol\",\"median\"),(\"Tumor Vol Variance\", \"var\"),(\"Std Dev of Tumor Vol\",\"std\"),(\"SEM of Tumor Vol\",\"sem\")]).style.format('{0:,.2f}')\n",
    "agg_summary_df"
   ]
  },
  {
   "cell_type": "markdown",
   "metadata": {},
   "source": [
    "## Bar and Pie Charts"
   ]
  },
  {
   "cell_type": "code",
   "execution_count": 13,
   "metadata": {},
   "outputs": [
    {
     "data": {
      "image/png": "[encoded data removed]",
      "text/plain": [
       "<Figure size 432x288 with 1 Axes>"
      ]
     },
     "metadata": {
      "needs_background": "light"
     },
     "output_type": "display_data"
    },
    {
     "data": {
      "text/plain": [
       "<Figure size 432x288 with 0 Axes>"
      ]
     },
     "metadata": {},
     "output_type": "display_data"
    }
   ],
   "source": [
    "# Pandas Bar Chart\n",
    "\n",
    "# pull all drug regimen and mouse ids.  each mouse id represents a measurement taken\n",
    "mouse_df = combined_data[[\"Drug Regimen\", \"Mouse ID\"]]\n",
    "\n",
    "unique_mouse_df = mouse_df.drop_duplicates(subset=\"Mouse ID\", keep=\"first\")\n",
    "\n",
    "# group by drug regimen and generate of count of measurements taken\n",
    "regimen_list = unique_mouse_df.groupby(\"Drug Regimen\")\n",
    "num_mice_list = unique_mouse_df.groupby(\"Drug Regimen\").count()\n",
    "\n",
    "# generate a bar plot showing the total number of measurements taken on each drug regimen using pandas\n",
    "mice_per_drug_chart = num_mice_list.plot(kind='bar', color=\"green\", alpha=0.5, legend=False)\n",
    "\n",
    "# set the title and axis labels using class methods\n",
    "mice_per_drug_chart.set_title(\"Total Number of Measurements Taken by Drug Regimen\")\n",
    "mice_per_drug_chart.set_xlabel(\"Drug Regimen\")\n",
    "mice_per_drug_chart.set_ylabel(\"Number of Measurements Taken\")\n",
    "\n",
    "\n",
    "# display the chart\n",
    "plt.show()\n",
    "plt.tight_layout()"
   ]
  },
  {
   "cell_type": "code",
   "execution_count": 18,
   "metadata": {},
   "outputs": [
    {
     "data": {
      "image/png": "[encoded data removed]",
      "text/plain": [
       "<Figure size 432x288 with 1 Axes>"
      ]
     },
     "metadata": {
      "needs_background": "light"
     },
     "output_type": "display_data"
    },
    {
     "data": {
      "text/plain": [
       "<Figure size 432x288 with 0 Axes>"
      ]
     },
     "metadata": {},
     "output_type": "display_data"
    }
   ],
   "source": [
    "# Pyplot Bar Chart\n",
    "\n",
    "# create a list of drug regimens and measurement counts\n",
    "drug_regimens = num_mice_list.index\n",
    "num_mice = num_mice_list[\"Mouse ID\"].to_list()\n",
    "\n",
    "# generate a bar chart showing the total number of measurements taken on each\n",
    "# drug regimen using pyplot\n",
    "plt.bar(drug_regimens, num_mice, color=\"green\", alpha=0.5, align='center', width=0.5)\n",
    "\n",
    "# rotate the x-axis labels vertically and set chart limits\n",
    "plt.xticks(rotation=\"vertical\")\n",
    "plt.xlim(-0.5, len(drug_regimens) - 0.5)\n",
    "plt.ylim(0, max(num_mice)+1.5)\n",
    "\n",
    "# set title and axis labels\n",
    "plt.title(\"Total Number of Measurements Taken by Drug Regimen\")\n",
    "plt.xlabel(\"Drug Regimen\")\n",
    "plt.ylabel(\"Number of Measurements Taken\")\n",
    "\n",
    "# display the chart\n",
    "plt.show()\n",
    "plt.tight_layout()\n"
   ]
  },
  {
   "cell_type": "code",
   "execution_count": 15,
   "metadata": {},
   "outputs": [
    {
     "data": {
      "image/png": "[encoded data removed]",
      "text/plain": [
       "<Figure size 432x288 with 1 Axes>"
      ]
     },
     "metadata": {},
     "output_type": "display_data"
    }
   ],
   "source": [
    "# Pandas Pie Chart\n",
    "\n",
    "# pull mouse ID and gender data\n",
    "gender_df = combined_data[[\"Mouse ID\", \"Sex\"]]\n",
    "\n",
    "# remove duplicate mouse IDs so we keep one record of each mouse\n",
    "gender_df = gender_df.drop_duplicates(subset=\"Mouse ID\", keep=\"first\")\n",
    "\n",
    "# groupby sex and count mice\n",
    "gender_count = gender_df.groupby(\"Sex\").count()\n",
    "\n",
    "\n",
    "# generate pie plot showing the distribution of female versus male mice using pandas\n",
    "gender_pie = gender_count.plot(kind=\"pie\", y=\"Mouse ID\", title=(\"Distribution of Female vs Male Mice\"), colors=[\"pink\", \"lightblue\"], autopct=\"%1.1f%%\")\n",
    "\n",
    "# create labels and legend\n",
    "plt.ylabel(\"Percentage by Gender\")\n",
    "plt.legend(loc=\"lower right\")\n",
    "\n",
    "\n",
    "# display the chart\n",
    "plt.show()\n"
   ]
  },
  {
   "cell_type": "code",
   "execution_count": 16,
   "metadata": {},
   "outputs": [
    {
     "data": {
      "image/png": "[encoded data removed]",
      "text/plain": [
       "<Figure size 432x288 with 1 Axes>"
      ]
     },
     "metadata": {},
     "output_type": "display_data"
    }
   ],
   "source": [
    "# Pyplot Pie Chart\n",
    "\n",
    "# create lists for labels and data\n",
    "labels = gender_count.index\n",
    "counts = gender_count[\"Mouse ID\"].to_list()\n",
    "\n",
    "\n",
    "# set the colors of each section of the pie chart\n",
    "colors = [\"pink\", \"lightblue\"]\n",
    "\n",
    "# generate a pie plot showing the distribution of female versus male mice using pyplot\n",
    "plt.pie(counts, labels=labels, colors=colors, autopct=\"%1.1f%%\")\n",
    "\n",
    "# create title, labels and legend\n",
    "plt.title(\"Distribution of Female vs Male Mice\")\n",
    "plt.ylabel(\"Percentage by Gender\")\n",
    "plt.legend(loc=\"lower right\")\n",
    "\n",
    "# display the chart\n",
    "plt.show()\n"
   ]
  },
  {
   "cell_type": "markdown",
   "metadata": {},
   "source": [
    "## Quartiles, Outliers and Boxplots"
   ]
  },
  {
   "cell_type": "code",
   "execution_count": 17,
   "metadata": {},
   "outputs": [],
   "source": [
    "# Calculate the final tumor volume of each mouse across four of the treatment regimens:  \n",
    "# Capomulin, Ramicane, Infubinol, and Ceftamin\n",
    "\n",
    "\n",
    "# sort data by mouse ID and timepoint in descending order to get the\n",
    "# final timepoint listed first\n",
    "sorted_df = combined_data.sort_values([\"Mouse ID\", \"Timepoint\"], ascending=False)\n",
    "\n",
    "# remove duplicate mouse ID, keeping only the final timepoint for each\n",
    "high_tp_df = sorted_df.drop_duplicates(subset=\"Mouse ID\", keep=\"first\")\n"
   ]
  },
  {
   "cell_type": "code",
   "execution_count": 18,
   "metadata": {},
   "outputs": [
    {
     "name": "stdout",
     "output_type": "stream",
     "text": [
      "Capomulin Stats\n",
      "---------------------\n",
      "Lower Quartile: 32.38\tUpper Quartile: 40.16\n",
      "Interquartile range of Tumor Volumes: 7.78\n",
      "Median Tumor Volume: 38.13\n",
      "Potential outliers: Values below 20.70 or above 51.83\n",
      "\n",
      "\n",
      "Ramicane Stats\n",
      "---------------------\n",
      "Lower Quartile: 31.56\tUpper Quartile: 40.66\n",
      "Interquartile range of Tumor Volumes: 9.10\n",
      "Median Tumor Volume: 36.56\n",
      "Potential outliers: Values below 17.91 or above 54.31\n",
      "\n",
      "\n",
      "Infubinol Stats\n",
      "---------------------\n",
      "Lower Quartile: 54.05\tUpper Quartile: 65.53\n",
      "Interquartile range of Tumor Volumes: 11.48\n",
      "Median Tumor Volume: 60.17\n",
      "Potential outliers: Values below 36.83 or above 82.74\n",
      "\n",
      "\n",
      "Ceftamin Stats\n",
      "---------------------\n",
      "Lower Quartile: 48.72\tUpper Quartile: 64.30\n",
      "Interquartile range of Tumor Volumes: 15.58\n",
      "Median Tumor Volume: 59.85\n",
      "Potential outliers: Values below 25.36 or above 87.67\n",
      "\n",
      "\n"
     ]
    }
   ],
   "source": [
    "# put treatments into a list for for loop (and later for plot labels)\n",
    "regimens = [\"Capomulin\", \"Ramicane\", \"Infubinol\", \"Ceftamin\"]\n",
    "\n",
    "# create empty list to fill with tumor vol data (for plotting)\n",
    "tumor_vol_list = []\n",
    "\n",
    "# loop through list of drug regimens of interest\n",
    "# calculate the IQR and quantitatively determine if there are any potential outliers. \n",
    "for drug in regimens:\n",
    "    # pull all tumor volume data for the current drug regimen\n",
    "    curr_drug_df = high_tp_df[high_tp_df[\"Drug Regimen\"] == drug][\"Tumor Volume (mm3)\"]\n",
    "    \n",
    "    # convert it to a list\n",
    "    tumor_vol_list.append(curr_drug_df.to_list())\n",
    "    \n",
    "    # grab the quartiles\n",
    "    quartiles = curr_drug_df.quantile([0.25, 0.5, 0.75])\n",
    "    lowerq = quartiles[0.25]\n",
    "    upperq = quartiles[0.75]\n",
    "    \n",
    "    # calculate the IQR and the upper and lower bounds\n",
    "    iqr = upperq-lowerq\n",
    "    lower_bound = lowerq - (1.5*iqr)\n",
    "    upper_bound = upperq + (1.5*iqr)\n",
    "    \n",
    "    # print our drug stats\n",
    "    print(f\"{drug} Stats\")\n",
    "    print(\"---------------------\")\n",
    "    print(f\"Lower Quartile: {lowerq:.2f}\\tUpper Quartile: {upperq:.2f}\")\n",
    "    print(f\"Interquartile range of Tumor Volumes: {iqr:.2f}\")\n",
    "    print(f\"Median Tumor Volume: {quartiles[0.5]:.2f}\")\n",
    "    print(f\"Potential outliers: Values below {lower_bound:.2f} or above {upper_bound:.2f}\\n\\n\")\n",
    "    \n"
   ]
  },
  {
   "cell_type": "code",
   "execution_count": 19,
   "metadata": {},
   "outputs": [
    {
     "data": {
      "image/png": "[encoded data removed]",
      "text/plain": [
       "<Figure size 432x288 with 1 Axes>"
      ]
     },
     "metadata": {
      "needs_background": "light"
     },
     "output_type": "display_data"
    }
   ],
   "source": [
    "# Box Plot\n",
    "\n",
    "# generate a box plot of the final tumor volume of each mouse across four regimens of interest\n",
    "\n",
    "# define outlier properties\n",
    "flierprops = dict(marker='D', markerfacecolor='blue', markersize=8, linestyle='none')\n",
    "\n",
    "# drow 4 boxplots in one figure\n",
    "fig1, ax1 = plt.subplots()\n",
    "ax1.boxplot(tumor_vol_list, showfliers=True, labels=regimens, flierprops=flierprops)\n",
    "\n",
    "# set limits for y-axis\n",
    "plt.ylim(20, 75)\n",
    "\n",
    "# create title and axis labels\n",
    "plt.title(\"Final Tumor Volume Across Drug Regimens of Interest\")\n",
    "plt.xlabel(\"Drug Regimen\")\n",
    "plt.ylabel(\"Final Tumor Volume (mm3)\")\n",
    "\n",
    "# display the chart\n",
    "plt.show()"
   ]
  },
  {
   "cell_type": "markdown",
   "metadata": {},
   "source": [
    "## Line and Scatter Plots"
   ]
  },
  {
   "cell_type": "code",
   "execution_count": 23,
   "metadata": {},
   "outputs": [
    {
     "data": {
      "image/png": "[encoded data removed]",
      "text/plain": [
       "<Figure size 432x288 with 1 Axes>"
      ]
     },
     "metadata": {
      "needs_background": "light"
     },
     "output_type": "display_data"
    }
   ],
   "source": [
    "# create lists of tumor volume data and timepoints for a mouse on Capomulin\n",
    "tvolume = combined_data.loc[combined_data[\"Mouse ID\"] == \"x401\"][\"Tumor Volume (mm3)\"].to_list()\n",
    "timepoints = combined_data.loc[combined_data[\"Mouse ID\"] == \"x401\"][\"Timepoint\"].to_list()\n",
    "\n",
    "# Generate a line plot of tumor volume vs. time point for a mouse treated with Capomulin\n",
    "capomulin_mouse, = plt.plot(timepoints, tvolume, color=\"firebrick\", label=\"Tumor Vol over Time\")\n",
    "\n",
    "# Create a legend and limits for chart\n",
    "plt.legend(handles=[capomulin_mouse], loc=\"best\")\n",
    "plt.xlim(min(timepoints)-1, max(timepoints)+1)\n",
    "plt.ylim(min(tvolume)-1, max(tvolume)+1)\n",
    "\n",
    "\n",
    "# create title and axis labels\n",
    "plt.title(\"Capomulin Treatment: Tumor Volume Over Time for Mouse ID x401\")\n",
    "plt.xlabel(\"Timepoints\")\n",
    "plt.ylabel(\"Tumor Volume (mm3)\")\n",
    "\n",
    "\n",
    "# display the chart\n",
    "plt.grid()\n",
    "plt.show()"
   ]
  },
  {
   "cell_type": "code",
   "execution_count": 21,
   "metadata": {},
   "outputs": [
    {
     "data": {
      "image/png": "[encoded data removed]",
      "text/plain": [
       "<Figure size 432x288 with 1 Axes>"
      ]
     },
     "metadata": {
      "needs_background": "light"
     },
     "output_type": "display_data"
    }
   ],
   "source": [
    "# Scatter Plot\n",
    "\n",
    "# pull all data associated with Capomulin\n",
    "capomulin_df = combined_data[combined_data[\"Drug Regimen\"] == \"Capomulin\"]\n",
    "\n",
    "# calculate the average tumor volume for each mouse\n",
    "scatter_df = capomulin_df.groupby(\"Mouse ID\").mean()\n",
    "\n",
    "# pull weight and average tumor volume into lists for plotting\n",
    "weight = scatter_df[\"Weight (g)\"]\n",
    "avgvolume = scatter_df[\"Tumor Volume (mm3)\"]\n",
    "\n",
    "# generate a scatter plot of average tumor volume vs. mouse weight for the Capomulin regimen\n",
    "plt.scatter(weight, avgvolume, facecolor=\"purple\")\n",
    "\n",
    "# set limits for chart\n",
    "plt.xlim(min(weight)-1, max(weight)+1)\n",
    "plt.ylim(min(avgvolume)-1, max(avgvolume)+1)\n",
    "\n",
    "# create title and axis labels\n",
    "plt.title(\"Capomulin Treatment: Tumor Volume vs Mouse Weight\")\n",
    "plt.xlabel(\"Mouse Weight (g)\")\n",
    "plt.ylabel(\"Average Tumor Volume (mm3)\")\n",
    "\n",
    "# display the chart\n",
    "plt.grid()\n",
    "plt.show()\n"
   ]
  },
  {
   "cell_type": "markdown",
   "metadata": {},
   "source": [
    "## Correlation and Regression"
   ]
  },
  {
   "cell_type": "code",
   "execution_count": 22,
   "metadata": {},
   "outputs": [
    {
     "name": "stdout",
     "output_type": "stream",
     "text": [
      "\n",
      "The correlation between mouse weight and the average tumor volume is 0.84\n"
     ]
    },
    {
     "data": {
      "image/png": "[encoded data removed]",
      "text/plain": [
       "<Figure size 432x288 with 1 Axes>"
      ]
     },
     "metadata": {
      "needs_background": "light"
     },
     "output_type": "display_data"
    }
   ],
   "source": [
    "# calculate the correlation coefficient and linear regression model \n",
    "# for mouse weight and average tumor volume for the Capomulin regimen\n",
    "corr = round(st.pearsonr(weight, avgvolume)[0], 2)\n",
    "\n",
    "print(f\"\\nThe correlation between mouse weight and the average tumor volume is {corr}\")\n",
    "\n",
    "reg = st.linregress(weight, avgvolume)\n",
    "\n",
    "# calculate the y values for our line\n",
    "y_values = weight * reg.slope + reg.intercept\n",
    "\n",
    "# plot the points and linear regression\n",
    "plt.scatter(weight, avgvolume, facecolor=\"purple\")\n",
    "plt.plot(weight, y_values, color=\"orange\")\n",
    "\n",
    "# set limits for chart\n",
    "plt.xlim(min(weight)-1, max(weight)+1)\n",
    "plt.ylim(min(avgvolume)-1, max(avgvolume)+1)\n",
    "\n",
    "# create the title and axis labels\n",
    "plt.title(\"Capomulin Treatment: Tumor Volume vs Mouse Weight\")\n",
    "plt.xlabel('Mouse Weight (g)')\n",
    "plt.ylabel('Average Tumor Volume (mm3)')\n",
    "\n",
    "# display the chart\n",
    "plt.grid()\n",
    "plt.show()"
   ]
  },
  {
   "cell_type": "code",
   "execution_count": null,
   "metadata": {},
   "outputs": [],
   "source": []
  }
 ],
 "metadata": {
  "anaconda-cloud": {},
  "kernelspec": {
   "display_name": "Python 3",
   "language": "python",
   "name": "python3"
  },
  "language_info": {
   "codemirror_mode": {
    "name": "ipython",
    "version": 3
   },
   "file_extension": ".py",
   "mimetype": "text/x-python",
   "name": "python",
   "nbconvert_exporter": "python",
   "pygments_lexer": "ipython3",
   "version": "3.6.10"
  }
 },
 "nbformat": 4,
 "nbformat_minor": 4
}
